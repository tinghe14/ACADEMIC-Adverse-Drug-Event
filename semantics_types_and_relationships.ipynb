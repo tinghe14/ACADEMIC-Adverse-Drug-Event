{
 "cells": [
  {
   "cell_type": "markdown",
   "metadata": {},
   "source": [
    "### Introduction"
   ]
  },
  {
   "cell_type": "code",
   "execution_count": null,
   "metadata": {},
   "outputs": [],
   "source": [
    "# load library\n",
    "import xml.etree.ElementTree as ET\n",
    "import numpy as np\n",
    "from matplotlib import pyplot as plt\n",
    "from collections import Counter # frequency table\n",
    "from lxml import etree # xml can not works for logical or/and/not, try other packages\n",
    "# read output.xml\n",
    "# total 1203 paper\n",
    "tree1 = ET.parse('output_1203 copy.xml')\n",
    "root1 = tree1.getroot()\n",
    "# read dataset again\n",
    "root11 = etree.parse(\"output_1203 copy.xml\")\n",
    "root33 = etree.parse(\"output_23.xml\")"
   ]
  },
  {
   "cell_type": "markdown",
   "metadata": {},
   "source": [
    "Find IDs we want:\n",
    "1. alikisren\n",
    "2. drug\n",
    "2.1 related drug(aliskiren)\n",
    "2.2 unrelated drug(aliskiren)\n",
    "3. sysmptom"
   ]
  },
  {
   "cell_type": "code",
   "execution_count": null,
   "metadata": {},
   "outputs": [],
   "source": [
    "# function: draw histogram plot\n",
    "def histo(data):\n",
    "    counts = Counter(data)\n",
    "    labels,values = zip(*counts.items())\n",
    "    indexes = np.arange(len(labels))\n",
    "    width = 1\n",
    "    plt.bar(indexes, values, width)\n",
    "    plt.xticks(indexes + width * 0.5, labels,rotation=90)\n",
    "    plt.grid(True)\n",
    "    plt.show()"
   ]
  },
  {
   "cell_type": "code",
   "execution_count": null,
   "metadata": {
    "scrolled": true
   },
   "outputs": [],
   "source": [
    "# find id for aliskiren\n",
    "id_ali = []\n",
    "for Utterance in root11.xpath(\"//Utterance/Entity[@name='aliskiren']\"):\n",
    "    id = Utterance.get('id')\n",
    "    id_ali.append(id)\n",
    "print(len(id_ali))"
   ]
  },
  {
   "cell_type": "code",
   "execution_count": null,
   "metadata": {},
   "outputs": [],
   "source": [
    "# find id for drug\n",
    "id_drug = []\n",
    "name_drug = []\n",
    "for Utterance in root11.xpath(\"//Utterance/Entity[@semtypes='orch,phsu' or @semtypes='clnd' or @semtypes='hops' or @semtypes='sbstt' or @semtypes='strd']\"):\n",
    "    id = Utterance.get('id')\n",
    "    id_drug.append(id)\n",
    "    name = Utterance.get('name')\n",
    "    name_drug.append(name)\n",
    "print(len(id_drug))\n",
    "\n",
    "# draw histogram plot for its name\n",
    "histo(name_drug)\n",
    "\n",
    "# print outcome\n",
    "counts = Counter(name_drug)\n",
    "print(counts)"
   ]
  },
  {
   "cell_type": "code",
   "execution_count": null,
   "metadata": {},
   "outputs": [],
   "source": [
    "# find id for: aliskiren & related drug\n",
    "alis_reldrug_type = []\n",
    "id_alis_reldrug = []\n",
    "id_reldrug_alis = []\n",
    "count = 0\n",
    "for entity in root11.xpath(\"//Utterance/Entity[@name='aliskiren']\"):\n",
    "    id_ali = entity.get('id')\n",
    "    utterance = entity.getparent() \n",
    "    if count%100 == 0:\n",
    "        print(\"count:\",count,end=' ')\n",
    "    count += 1\n",
    "    for entity2 in utterance.xpath(\"//Utterance/Entity[@semtypes='orch,phsu' or @semtypes='clnd' or @semtypes='hops' or @semtypes='sbstt' or @semtypes='strd']\"):\n",
    "        id_drug = entity2.get('id')\n",
    "        xpath1 = \"//Predication/Subject[@entityID = '{0}']/..\\\n",
    "                  /Object[@entityID = '{1}']/../Predicate\".format(id_drug,id_ali) \n",
    "        xpath2= \"//Predication/Subject[@entityID = '{0}']/..\\\n",
    "                  /Object[@entityID = '{1}']/../Predicate\".format(id_ali,id_drug)\n",
    "        for pred in utterance.xpath(xpath1 + \" | \" + xpath2):\n",
    "            print(id_ali,id_drug)\n",
    "            auxtype = pred.get('type')\n",
    "            alis_reldrug_type.append(auxtype)\n",
    "            id_alis_reldrug.append(id_drug)\n",
    "            id_reldrug_alis.append(id_ali)"
   ]
  },
  {
   "cell_type": "code",
   "execution_count": null,
   "metadata": {},
   "outputs": [],
   "source": [
    "# find rel_drug names\n",
    "name_alis_reldrug = []\n",
    "for id in id_alis_reldrug:\n",
    "    xpath_druid = \"./Document/Utterance/Entity[@id ='\"+id+\"']\"\n",
    "    for entity in root11.xpath(xpath_druid):\n",
    "        aux = entity.get('name')\n",
    "        name_alis_reldrug.append(aux)"
   ]
  },
  {
   "cell_type": "code",
   "execution_count": null,
   "metadata": {},
   "outputs": [],
   "source": [
    "histo(name_alis_reldrug)"
   ]
  },
  {
   "cell_type": "code",
   "execution_count": null,
   "metadata": {
    "scrolled": true
   },
   "outputs": [],
   "source": [
    "counts = Counter(name_alis_reldrug)\n",
    "print(counts)"
   ]
  },
  {
   "cell_type": "code",
   "execution_count": null,
   "metadata": {},
   "outputs": [],
   "source": [
    "type(id_drug)"
   ]
  },
  {
   "cell_type": "code",
   "execution_count": null,
   "metadata": {},
   "outputs": [],
   "source": [
    "# find id for: unrelated drug\n",
    "aux = list(set(id_drug) - set(id_alis_reldrug))\n",
    "id_unreldrug = list(set(aux)- set(id_ali))"
   ]
  },
  {
   "cell_type": "code",
   "execution_count": null,
   "metadata": {},
   "outputs": [],
   "source": [
    "# find unrel_drug names\n",
    "name_alis_unreldrug = []\n",
    "for id in id_unreldrug:\n",
    "    xpath_undruid = \"./Document/Utterance/Entity[@id ='\"+id+\"']\"\n",
    "    for entity in root11.xpath(xpath_undruid):\n",
    "        aux = entity.get('name')\n",
    "        name_alis_unreldrug.append(aux)"
   ]
  },
  {
   "cell_type": "code",
   "execution_count": null,
   "metadata": {},
   "outputs": [],
   "source": [
    "histo(name_alis_unreldrug)"
   ]
  },
  {
   "cell_type": "code",
   "execution_count": null,
   "metadata": {},
   "outputs": [],
   "source": [
    "counts = Counter(name_alis_unreldrug)\n",
    "print(counts)"
   ]
  },
  {
   "cell_type": "code",
   "execution_count": null,
   "metadata": {},
   "outputs": [],
   "source": [
    "# find id for sysmptom\n",
    "id_sys = []\n",
    "name_sys = []\n",
    "for Utterance in root11.xpath(\"//Utterance/Entity[@semtypes='sosy' or @semtypes='dsyn' or @semtypes='cgab' or @semtypes='anab' or @semtypes='evnt' or @semtypes='fndg' or @semtypes='inpo' or @semtypes='neop' or @semtypes='ortf' or @semtypes='patf' or @semtypes='phpr' or @semtypes='phsf']\"):\n",
    "    id = Utterance.get('id')\n",
    "    id_sys.append(id)\n",
    "    name = Utterance.get('name')\n",
    "    name_sys.append(name)\n",
    "print(len(id_sys))\n",
    "\n",
    "# draw histogram plot for its name\n",
    "histo(name_sys)\n",
    "\n",
    "# print outcome\n",
    "counts = Counter(name_sys)\n",
    "print(counts)"
   ]
  },
  {
   "cell_type": "markdown",
   "metadata": {},
   "source": [
    "### Analysis based on aliskiren and sysptom on all 1202 paper"
   ]
  },
  {
   "cell_type": "code",
   "execution_count": null,
   "metadata": {
    "scrolled": true
   },
   "outputs": [],
   "source": [
    "# find id for: aliskiren & symptom\n",
    "alis_relsys_type = []\n",
    "id_alis_relsys = []\n",
    "id_relsys_alis = []\n",
    "count = 0\n",
    "for entity in root11.xpath(\"//Utterance/Entity[@name='aliskiren']\"):\n",
    "    id_ali = entity.get('id')\n",
    "    utterance = entity.getparent() \n",
    "    if count%100 == 0:\n",
    "        print(\"count:\",count,end=' ')\n",
    "    count += 1\n",
    "    for entity2 in utterance.xpath(\"//Utterance/Entity[@semtypes='sosy' or @semtypes='dsyn' or @semtypes='cgab' or @semtypes='anab' or @semtypes='evnt' or @semtypes='fndg' or @semtypes='inpo' or @semtypes='neop' or @semtypes='ortf' or @semtypes='patf' or @semtypes='phpr' or @semtypes='phsf']\"):\n",
    "        id_sys = entity2.get('id')\n",
    "        xpath1 = \"//Predication/Subject[@entityID = '{0}']/..\\\n",
    "                  /Object[@entityID = '{1}']/../Predicate\".format(id_sys,id_ali) \n",
    "        xpath2= \"//Predication/Subject[@entityID = '{0}']/..\\\n",
    "                  /Object[@entityID = '{1}']/../Predicate\".format(id_ali,id_sys)\n",
    "        for pred in utterance.xpath(xpath1 + \" | \" + xpath2):\n",
    "            print(id_ali,id_sys)\n",
    "            auxtype = pred.get('type')\n",
    "            alis_relsys_type.append(auxtype)\n",
    "            id_alis_relsys.append(id_sys)\n",
    "            id_relsys_alis.append(id_ali)"
   ]
  },
  {
   "cell_type": "code",
   "execution_count": null,
   "metadata": {
    "scrolled": true
   },
   "outputs": [],
   "source": [
    "print(len(id_alis_relsys))"
   ]
  },
  {
   "cell_type": "code",
   "execution_count": null,
   "metadata": {},
   "outputs": [],
   "source": [
    "# find symptom names\n",
    "name_alis_relsys = []\n",
    "for id in id_alis_relsys:\n",
    "    xpath_sysid = \"./Document/Utterance/Entity[@id ='\"+id+\"']\"\n",
    "    for entity in root11.xpath(xpath_sysid):\n",
    "        aux = entity.get('name')\n",
    "        name_alis_relsys.append(aux)"
   ]
  },
  {
   "cell_type": "code",
   "execution_count": null,
   "metadata": {},
   "outputs": [],
   "source": [
    "histo(name_alis_relsys)"
   ]
  },
  {
   "cell_type": "code",
   "execution_count": null,
   "metadata": {},
   "outputs": [],
   "source": [
    "print(name_alis_relsys)"
   ]
  },
  {
   "cell_type": "markdown",
   "metadata": {},
   "source": [
    "### Ananlysis based on aliskiren and angioedema related 23 paper\n"
   ]
  },
  {
   "cell_type": "code",
   "execution_count": null,
   "metadata": {},
   "outputs": [],
   "source": [
    "# 23 paper\n",
    "# find id for aliskiren\n",
    "id_ali_23 = []\n",
    "for Utterance in root33.xpath(\"//Utterance/Entity[@name='aliskiren']\"):\n",
    "    id = Utterance.get('id')\n",
    "    id_ali_23.append(id)\n",
    "print(len(id_ali_23))\n",
    "# find id for drug\n",
    "# 157\n",
    "id_drug_23 = []\n",
    "for Utterance in root33.xpath(\"//Utterance/Entity[@semtypes='orch,phsu' or @semtypes='clnd' or @semtypes='hops' or @semtypes='sbstt' or @semtypes='strd']\"):\n",
    "    id = Utterance.get('id')\n",
    "    id_drug_23.append(id)\n",
    "print(len(id_drug_23))"
   ]
  },
  {
   "cell_type": "code",
   "execution_count": null,
   "metadata": {},
   "outputs": [],
   "source": [
    "# alis & rel_drug\n",
    "alis_reldrug_type_23 = []\n",
    "id_alis_reldrug_23 = []\n",
    "id_reldrug_alis_23 = []\n",
    "for entity in root33.xpath(\"//Utterance/Entity[@name='aliskiren']\"):\n",
    "    id_ali_23 = entity.get('id')\n",
    "    utterance = entity.getparent() \n",
    "    for entity2 in utterance.xpath(\"//Utterance/Entity[@semtypes='orch,phsu' or @semtypes='clnd' or @semtypes='hops' or @semtypes='sbstt' or @semtypes='strd']\"):\n",
    "        id_drug_23 = entity2.get('id')\n",
    "        xpath1 = \"//Predication/Subject[@entityID = '{0}']/..\\\n",
    "                  /Object[@entityID = '{1}']/../Predicate\".format(id_drug_23,id_ali_23) \n",
    "        xpath2= \"//Predication/Subject[@entityID = '{0}']/..\\\n",
    "                  /Object[@entityID = '{1}']/../Predicate\".format(id_ali_23,id_drug_23)\n",
    "        for pred in utterance.xpath(xpath1 + \" | \" + xpath2):    \n",
    "            print(id_ali_23,id_drug_23)\n",
    "            auxtype = pred.get('type')\n",
    "            alis_reldrug_type_23.append(auxtype)\n",
    "            id_alis_reldrug_23.append(id_drug_23)\n",
    "            id_reldrug_alis_23.append(id_ali_23)"
   ]
  },
  {
   "cell_type": "code",
   "execution_count": null,
   "metadata": {},
   "outputs": [],
   "source": [
    "# alis&unrel_drug\n",
    "id_unreldrug = list(set(id_drug_23)- set(id_ali))"
   ]
  },
  {
   "cell_type": "code",
   "execution_count": null,
   "metadata": {},
   "outputs": [],
   "source": [
    "# find unrel_drug_23 names\n",
    "name_alis_unreldrug_23 = []\n",
    "for id in id_unreldrug:\n",
    "    xpath_druid = \"./Document/Utterance/Entity[@id ='\"+id+\"']\"\n",
    "    for entity in root33.xpath(xpath_druid):\n",
    "        aux = entity.get('name')\n",
    "        name_alis_unreldrug_23.append(aux)"
   ]
  },
  {
   "cell_type": "code",
   "execution_count": null,
   "metadata": {},
   "outputs": [],
   "source": [
    "histo(name_alis_unreldrug_23)"
   ]
  },
  {
   "cell_type": "code",
   "execution_count": null,
   "metadata": {},
   "outputs": [],
   "source": [
    "# find id for symptom\n",
    "id_sys_33 = []\n",
    "name_sys_33 = []\n",
    "for Utterance in root33.xpath(\"//Utterance/Entity[@semtypes='sosy' or @semtypes='dsyn' or @semtypes='cgab' or @semtypes='anab' or @semtypes='evnt' or @semtypes='fndg' or @semtypes='inpo' or @semtypes='neop' or @semtypes='ortf' or @semtypes='patf' or @semtypes='phpr' or @semtypes='phsf']\"):\n",
    "    id = Utterance.get('id')\n",
    "    id_sys_33.append(id)\n",
    "    name = Utterance.get('name')\n",
    "    name_sys_33.append(name)\n",
    "print(len(id_sys_33))\n",
    "\n",
    "# draw histogram plot for its name\n",
    "histo(name_sys_33)\n",
    "\n",
    "# print outcome\n",
    "counts = Counter(name_sys_33)\n",
    "print(counts)"
   ]
  },
  {
   "cell_type": "code",
   "execution_count": null,
   "metadata": {},
   "outputs": [],
   "source": [
    "# find id for: aliskiren & symptom\n",
    "alis_relsys_type33 = []\n",
    "id_alis_relsys33 = []\n",
    "id_relsys_alis33 = []\n",
    "count = 0\n",
    "for entity in root33.xpath(\"//Utterance/Entity[@name='aliskiren']\"):\n",
    "    id_ali = entity.get('id')\n",
    "    utterance = entity.getparent() \n",
    "    if count%100 == 0:\n",
    "        print(\"count:\",count,end=' ')\n",
    "    count += 1\n",
    "    for entity2 in utterance.xpath(\"//Utterance/Entity[@semtypes='sosy' or @semtypes='dsyn' or @semtypes='cgab' or @semtypes='anab' or @semtypes='evnt' or @semtypes='fndg' or @semtypes='inpo' or @semtypes='neop' or @semtypes='ortf' or @semtypes='patf' or @semtypes='phpr' or @semtypes='phsf']\"):\n",
    "        id_sys = entity2.get('id')\n",
    "        xpath1 = \"//Predication/Subject[@entityID = '{0}']/..\\\n",
    "                  /Object[@entityID = '{1}']/../Predicate\".format(id_sys,id_ali) \n",
    "        xpath2= \"//Predication/Subject[@entityID = '{0}']/..\\\n",
    "                  /Object[@entityID = '{1}']/../Predicate\".format(id_ali,id_sys)\n",
    "        for pred in utterance.xpath(xpath1 + \" | \" + xpath2):\n",
    "            auxtype = pred.get('type')\n",
    "            alis_relsys_type33.append(auxtype)\n",
    "            id_alis_relsys33.append(id_sys)\n",
    "            id_relsys_alis33.append(id_ali)"
   ]
  },
  {
   "cell_type": "code",
   "execution_count": null,
   "metadata": {},
   "outputs": [],
   "source": [
    "# find symptom names\n",
    "name_alis_relsys33 = []\n",
    "for id in id_alis_relsys33:\n",
    "    xpath_sysid = \"./Document/Utterance/Entity[@id ='\"+id+\"']\"\n",
    "    for entity in root33.xpath(xpath_sysid):\n",
    "        aux = entity.get('name')\n",
    "        name_alis_relsys33.append(aux)"
   ]
  },
  {
   "cell_type": "code",
   "execution_count": null,
   "metadata": {},
   "outputs": [],
   "source": [
    "histo(name_alis_relsys33)"
   ]
  }
 ],
 "metadata": {
  "kernelspec": {
   "display_name": "Python 3",
   "language": "python",
   "name": "python3"
  },
  "language_info": {
   "codemirror_mode": {
    "name": "ipython",
    "version": 3
   },
   "file_extension": ".py",
   "mimetype": "text/x-python",
   "name": "python",
   "nbconvert_exporter": "python",
   "pygments_lexer": "ipython3",
   "version": "3.6.4"
  }
 },
 "nbformat": 4,
 "nbformat_minor": 2
}
